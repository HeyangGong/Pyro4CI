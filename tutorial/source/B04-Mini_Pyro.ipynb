{
 "cells": [
  {
   "cell_type": "markdown",
   "metadata": {},
   "source": [
    "# Mini-Pyro\n",
    "\n"
   ]
  },
  {
   "cell_type": "markdown",
   "metadata": {},
   "source": [
    "This file contains a minimal implementation of the Pyro Probabilistic\n",
    "Programming Language. The API (method signatures, etc.) match that of\n",
    "the full implementation as closely as possible. This file is independent\n",
    "of the rest of Pyro, with the exception of the :mod:`pyro.distributions`\n",
    "module.\n",
    "\n",
    "An accompanying example that makes use of this implementation can be\n",
    "found at examples/minipyro.py."
   ]
  },
  {
   "cell_type": "code",
   "execution_count": 7,
   "metadata": {},
   "outputs": [],
   "source": [
    "\"\"\"\n",
    "Mini Pyro\n",
    "---------\n",
    "\n",
    "This file contains a minimal implementation of the Pyro Probabilistic\n",
    "Programming Language. The API (method signatures, etc.) match that of\n",
    "the full implementation as closely as possible. This file is independent\n",
    "of the rest of Pyro, with the exception of the :mod:`pyro.distributions`\n",
    "module.\n",
    "\n",
    "An accompanying example that makes use of this implementation can be\n",
    "found at examples/minipyro.py.\n",
    "\"\"\"\n",
    "import warnings\n",
    "import weakref\n",
    "from collections import OrderedDict\n",
    "\n",
    "import torch\n",
    "\n",
    "from pyro.distributions import validation_enabled\n",
    "\n",
    "# Pyro keeps track of two kinds of global state:\n",
    "# i)  The effect handler stack, which enables non-standard interpretations of\n",
    "#     Pyro primitives like sample();\n",
    "#     See http://docs.pyro.ai/en/0.3.1/poutine.html\n",
    "# ii) Trainable parameters in the Pyro ParamStore;\n",
    "#     See http://docs.pyro.ai/en/0.3.1/parameters.html\n",
    "\n",
    "PYRO_STACK = []\n",
    "PARAM_STORE = {}  # maps name -> (unconstrained_value, constraint)\n",
    "\n",
    "\n",
    "def get_param_store():\n",
    "    return PARAM_STORE\n",
    "\n",
    "\n",
    "# The base effect handler class (called Messenger here for consistency with Pyro).\n",
    "class Messenger(object):\n",
    "    def __init__(self, fn=None):\n",
    "        self.fn = fn\n",
    "\n",
    "    # Effect handlers push themselves onto the PYRO_STACK.\n",
    "    # Handlers earlier in the PYRO_STACK are applied first.\n"
   ]
  },
  {
   "cell_type": "code",
   "execution_count": null,
   "metadata": {},
   "outputs": [],
   "source": []
  }
 ],
 "metadata": {
  "kernelspec": {
   "display_name": "Python 3",
   "language": "python",
   "name": "python3"
  },
  "language_info": {
   "codemirror_mode": {
    "name": "ipython",
    "version": 3
   },
   "file_extension": ".py",
   "mimetype": "text/x-python",
   "name": "python",
   "nbconvert_exporter": "python",
   "pygments_lexer": "ipython3",
   "version": "3.6.8"
  },
  "toc": {
   "base_numbering": 1,
   "nav_menu": {},
   "number_sections": true,
   "sideBar": true,
   "skip_h1_title": false,
   "title_cell": "Table of Contents",
   "title_sidebar": "Contents",
   "toc_cell": false,
   "toc_position": {},
   "toc_section_display": true,
   "toc_window_display": true
  }
 },
 "nbformat": 4,
 "nbformat_minor": 2
}
